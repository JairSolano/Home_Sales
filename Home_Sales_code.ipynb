{
 "cells": [
  {
   "cell_type": "code",
   "execution_count": 0,
   "metadata": {
    "application/vnd.databricks.v1+cell": {
     "cellMetadata": {
      "byteLimit": 2048000,
      "rowLimit": 10000
     },
     "inputWidgets": {},
     "nuid": "c971a6ea-bdc2-4132-8a44-28f6827b30ab",
     "showTitle": false,
     "title": ""
    }
   },
   "outputs": [
    {
     "output_type": "stream",
     "name": "stdout",
     "output_type": "stream",
     "text": [
      "\r0% [Working]\r            \rHit:1 https://repos.azul.com/zulu/deb stable InRelease\r\n\r0% [Connecting to archive.ubuntu.com (185.125.190.83)] [Connecting to security.\r                                                                               \rHit:2 http://archive.ubuntu.com/ubuntu focal InRelease\r\n\r                                                                               \r0% [Waiting for headers] [Waiting for headers] [Waiting for headers]\r                                                                    \rHit:3 http://security.ubuntu.com/ubuntu focal-security InRelease\r\n\r                                                                    \r0% [Waiting for headers] [Waiting for headers]\r                                              \rHit:4 http://archive.ubuntu.com/ubuntu focal-updates InRelease\r\n\r                                              \r0% [Waiting for headers]\r0% [Waiting for headers] [Waiting for headers]\r                                              \rHit:5 http://archive.ubuntu.com/ubuntu focal-backports InRelease\r\n\r                                              \r0% [Waiting for headers]\r0% [Waiting for headers]\r0% [Waiting for headers]\r0% [Waiting for headers]\r0% [Waiting for headers]\r0% [Waiting for headers]\r0% [Waiting for headers]\r0% [Waiting for headers]\r0% [Waiting for headers]\r                        \rHit:6 http://ppa.launchpad.net/deadsnakes/ppa/ubuntu focal InRelease\r\n\r                        \r0% [Working]\r20% [Working]\r             \r\rReading package lists... 0%\r\rReading package lists... 0%\r\rReading package lists... 0%\r\rReading package lists... 3%\r\rReading package lists... 3%\r\rReading package lists... 4%\r\rReading package lists... 4%\r\rReading package lists... 35%\r\rReading package lists... 37%\r\rReading package lists... 37%\r\rReading package lists... 38%\r\rReading package lists... 38%\r\rReading package lists... 51%\r\rReading package lists... 51%\r\rReading package lists... 63%\r\rReading package lists... 63%\r\rReading package lists... 68%\r\rReading package lists... 68%\r\rReading package lists... 68%\r\rReading package lists... 68%\r\rReading package lists... 68%\r\rReading package lists... 68%\r\rReading package lists... 68%\r\rReading package lists... 68%\r\rReading package lists... 69%\r\rReading package lists... 80%\r\rReading package lists... 80%\r\rReading package lists... 92%\r\rReading package lists... 92%\r\rReading package lists... 96%\r\rReading package lists... 96%\r\rReading package lists... 96%\r\rReading package lists... 96%\r\rReading package lists... 96%\r\rReading package lists... 96%\r\rReading package lists... 98%\r\rReading package lists... 98%\r\rReading package lists... 99%\r\rReading package lists... 99%\r\rReading package lists... Done\r\r\ndebconf: delaying package configuration, since apt-utils is not installed\r\n\u001B[33mWARNING: You are using pip version 21.2.4; however, version 24.2 is available.\r\nYou should consider upgrading via the '/local_disk0/.ephemeral_nfs/envs/pythonEnv-633b4d5d-1eb9-4eed-b363-e352f6281358/bin/python -m pip install --upgrade pip' command.\u001B[0m\r\n"
     ]
    }
   ],
   "source": [
    "import os\n",
    "# Find the latest version of spark 3.x  from https://downloads.apache.org/spark/ and enter as the spark version\n",
    "# For example:\n",
    "# spark_version = 'spark-3.5.1'\n",
    "spark_version = 'spark-3.4.3'\n",
    "os.environ['SPARK_VERSION']=spark_version\n",
    "\n",
    "# Install Spark and Java\n",
    "!apt-get update\n",
    "!apt-get install openjdk-11-jdk-headless -qq > /dev/null\n",
    "!wget -q https://downloads.apache.org/spark/$SPARK_VERSION/$SPARK_VERSION-bin-hadoop3.tgz\n",
    "!tar xf $SPARK_VERSION-bin-hadoop3.tgz\n",
    "!pip install -q findspark\n",
    "\n",
    "# Set Environment Variables\n",
    "os.environ[\"JAVA_HOME\"] = \"/usr/lib/jvm/java-11-openjdk-amd64\"\n",
    "os.environ[\"SPARK_HOME\"] = f\"/content/{spark_version}-bin-hadoop3\""
   ]
  },
  {
   "cell_type": "code",
   "execution_count": 0,
   "metadata": {
    "application/vnd.databricks.v1+cell": {
     "cellMetadata": {
      "byteLimit": 2048000,
      "rowLimit": 10000
     },
     "inputWidgets": {},
     "nuid": "43011f46-65b0-49a2-acb1-dbe23ad97a79",
     "showTitle": false,
     "title": ""
    },
    "colab": {
     "base_uri": "https://localhost:8080/"
    },
    "id": "a_KW73O2e3dw",
    "outputId": "fa5fd2b3-e2de-491b-ee1c-405317ba7ebc"
   },
   "outputs": [],
   "source": [
    "# Import findspark and initialize. \n",
    "import findspark\n",
    "findspark.init()"
   ]
  },
  {
   "cell_type": "code",
   "execution_count": 0,
   "metadata": {
    "application/vnd.databricks.v1+cell": {
     "cellMetadata": {
      "byteLimit": 2048000,
      "rowLimit": 10000
     },
     "inputWidgets": {},
     "nuid": "e9f3039c-ae82-43ba-a686-65e4dcc87859",
     "showTitle": false,
     "title": ""
    },
    "id": "2XbWNf1Te5fM"
   },
   "outputs": [],
   "source": [
    "# Import packages\n",
    "from pyspark.sql import SparkSession\n",
    "import time\n",
    "\n",
    "# Create a SparkSession\n",
    "spark = SparkSession.builder.appName(\"SparkSQL\").config(\"spark.driver.memory\", \"2g\").getOrCreate()"
   ]
  },
  {
   "cell_type": "code",
   "execution_count": 0,
   "metadata": {
    "application/vnd.databricks.v1+cell": {
     "cellMetadata": {
      "byteLimit": 2048000,
      "rowLimit": 10000
     },
     "inputWidgets": {},
     "nuid": "ec3af875-c829-4142-a098-2918dcf319b2",
     "showTitle": false,
     "title": ""
    }
   },
   "outputs": [
    {
     "output_type": "stream",
     "name": "stdout",
     "output_type": "stream",
     "text": [
      "Out[4]: [FileInfo(path='dbfs:/FileStore/tables/home_sales_revised/', name='home_sales_revised/', size=0, modificationTime=0),\n FileInfo(path='dbfs:/FileStore/tables/home_sales_revised.csv', name='home_sales_revised.csv', size=2747874, modificationTime=1728961923000),\n FileInfo(path='dbfs:/FileStore/tables/marathon_df', name='marathon_df', size=1108687, modificationTime=1728269567000),\n FileInfo(path='dbfs:/FileStore/tables/vehicles.csv', name='vehicles.csv', size=115450, modificationTime=1727913288000),\n FileInfo(path='dbfs:/FileStore/tables/vehicles.parquet', name='vehicles.parquet', size=4975246, modificationTime=1727913289000)]"
     ]
    }
   ],
   "source": [
    "dbutils.fs.ls(\"/FileStore/tables/\")"
   ]
  },
  {
   "cell_type": "code",
   "execution_count": 0,
   "metadata": {
    "application/vnd.databricks.v1+cell": {
     "cellMetadata": {
      "byteLimit": 2048000,
      "rowLimit": 10000
     },
     "inputWidgets": {},
     "nuid": "5e198fa3-9789-4095-bfd8-21a4a73dce68",
     "showTitle": false,
     "title": ""
    },
    "colab": {
     "base_uri": "https://localhost:8080/"
    },
    "id": "wOJqxG_RPSwp",
    "outputId": "7857ef9f-5b04-405d-f5aa-e535dfe7870c"
   },
   "outputs": [
    {
     "output_type": "stream",
     "name": "stdout",
     "output_type": "stream",
     "text": [
      "+--------------------+----------+----------+------+--------+---------+-----------+--------+------+----------+----+\n|                  id|      date|date_built| price|bedrooms|bathrooms|sqft_living|sqft_lot|floors|waterfront|view|\n+--------------------+----------+----------+------+--------+---------+-----------+--------+------+----------+----+\n|f8a53099-ba1c-47d...|2022-04-08|      2016|936923|       4|        3|       3167|   11733|     2|         1|  76|\n|7530a2d8-1ae3-451...|2021-06-13|      2013|379628|       2|        2|       2235|   14384|     1|         0|  23|\n|43de979c-0bf0-4c9...|2019-04-12|      2014|417866|       2|        2|       2127|   10575|     2|         0|   0|\n|b672c137-b88c-48b...|2019-10-16|      2016|239895|       2|        2|       1631|   11149|     2|         0|   0|\n|e0726d4d-d595-407...|2022-01-08|      2017|424418|       3|        2|       2249|   13878|     2|         0|   4|\n|5aa00529-0533-46b...|2019-01-30|      2017|218712|       2|        3|       1965|   14375|     2|         0|   7|\n|131492a1-72e2-4a8...|2020-02-08|      2017|419199|       2|        3|       2062|    8876|     2|         0|   6|\n|8d54a71b-c520-44e...|2019-07-21|      2010|323956|       2|        3|       1506|   11816|     1|         0|  25|\n|e81aacfe-17fe-46b...|2020-06-16|      2016|181925|       3|        3|       2137|   11709|     2|         0|  22|\n|2ed8d509-7372-46d...|2021-08-06|      2015|258710|       3|        3|       1918|    9666|     1|         0|  25|\n|f876d86f-3c9f-42b...|2019-02-27|      2011|167864|       3|        3|       2471|   13924|     2|         0|  15|\n|0a2bd445-8508-4d8...|2021-12-30|      2014|337527|       2|        3|       1926|   12556|     1|         0|  23|\n|941bad30-eb49-4a7...|2020-05-09|      2015|229896|       3|        3|       2197|    8641|     1|         0|   3|\n|dd61eb34-6589-4c0...|2021-07-25|      2016|210247|       3|        2|       1672|   11986|     2|         0|  28|\n|f1e4cef7-d151-439...|2019-02-01|      2011|398667|       2|        3|       2331|   11356|     1|         0|   7|\n|ea620c7b-c2f7-4c6...|2021-05-31|      2011|437958|       3|        3|       2356|   11052|     1|         0|  26|\n|f233cb41-6f33-4b0...|2021-07-18|      2016|437375|       4|        3|       1704|   11721|     2|         0|  34|\n|c797ca12-52cd-4b1...|2019-06-08|      2015|288650|       2|        3|       2100|   10419|     2|         0|   7|\n|0cfe57f3-28c2-472...|2019-10-04|      2015|308313|       3|        3|       1960|    9453|     2|         0|   2|\n|4566cd2a-ac6e-435...|2019-07-15|      2016|177541|       3|        3|       2130|   10517|     2|         0|  25|\n+--------------------+----------+----------+------+--------+---------+-----------+--------+------+----------+----+\nonly showing top 20 rows\n\n"
     ]
    }
   ],
   "source": [
    "# 1. Read in the AWS S3 bucket into a DataFrame.\n",
    "from pyspark import SparkFiles\n",
    "url = \"https://2u-data-curriculum-team.s3.amazonaws.com/dataviz-classroom/v1.2/22-big-data/home_sales_revised.csv\"\n",
    "spark.sparkContext.addFile(url)\n",
    "# Load the home_sales_revised.csv file into a DataFrame.\n",
    "file_location = '/FileStore/tables/home_sales_revised.csv'\n",
    "df = spark.read.csv(file_location, inferSchema=True, header=True)\n",
    "df.show()"
   ]
  },
  {
   "cell_type": "code",
   "execution_count": 0,
   "metadata": {
    "application/vnd.databricks.v1+cell": {
     "cellMetadata": {
      "byteLimit": 2048000,
      "rowLimit": 10000
     },
     "inputWidgets": {},
     "nuid": "5690c6b8-3910-4e70-9b48-e8b834914058",
     "showTitle": false,
     "title": ""
    },
    "id": "RoljcJ7WPpnm"
   },
   "outputs": [],
   "source": [
    "# 2. Display the DataFrame.\n",
    "df.createOrReplaceTempView('home_sales')\n"
   ]
  },
  {
   "cell_type": "code",
   "execution_count": 0,
   "metadata": {
    "application/vnd.databricks.v1+cell": {
     "cellMetadata": {
      "byteLimit": 2048000,
      "rowLimit": 10000
     },
     "inputWidgets": {},
     "nuid": "acb88bb2-012c-4139-984b-ecab6dfbde6a",
     "showTitle": false,
     "title": ""
    },
    "colab": {
     "base_uri": "https://localhost:8080/"
    },
    "id": "L6fkwOeOmqvq",
    "outputId": "bdded620-79c4-488d-c7a5-91c6799c419e"
   },
   "outputs": [
    {
     "output_type": "stream",
     "name": "stdout",
     "output_type": "stream",
     "text": [
      "+----------+---------+\n|date_built|AVG_Price|\n+----------+---------+\n|      2010|296800.75|\n|      2011| 302141.9|\n|      2012|298233.42|\n|      2013|299999.39|\n|      2014|299073.89|\n|      2015|307908.86|\n|      2016|296050.24|\n|      2017|296576.69|\n+----------+---------+\n\n"
     ]
    }
   ],
   "source": [
    "# 3. What is the average price for a four bedroom house sold per year, rounded to two decimal places?\n",
    "spark.sql(\"SELECT date_built, ROUND(AVG(price), 2) AS AVG_Price FROM home_sales  WHERE bedrooms ='4' GROUP BY date_built ORDER BY date_built ASC\").show()\n"
   ]
  },
  {
   "cell_type": "code",
   "execution_count": 0,
   "metadata": {
    "application/vnd.databricks.v1+cell": {
     "cellMetadata": {
      "byteLimit": 2048000,
      "rowLimit": 10000
     },
     "inputWidgets": {},
     "nuid": "b30a8eee-f507-484e-8c85-a276ba279a43",
     "showTitle": false,
     "title": ""
    },
    "colab": {
     "base_uri": "https://localhost:8080/"
    },
    "id": "l8p_tUS8h8it",
    "outputId": "65806e5f-6262-41c0-ff65-5107464e5c4d"
   },
   "outputs": [
    {
     "output_type": "stream",
     "name": "stdout",
     "output_type": "stream",
     "text": [
      "+----------+---------+\n|date_built|avg_price|\n+----------+---------+\n|      2010|292859.62|\n|      2011|291117.47|\n|      2012|293683.19|\n|      2013|295962.27|\n|      2014|290852.27|\n|      2015| 288770.3|\n|      2016|290555.07|\n|      2017|292676.79|\n+----------+---------+\n\n"
     ]
    }
   ],
   "source": [
    "# 4. What is the average price of a home for each year the home was built,\n",
    "# that have 3 bedrooms and 3 bathrooms, rounded to two decimal places?\n",
    "spark.sql(\"SELECT date_built, ROUND(AVG(price), 2) AS avg_price FROM home_sales WHERE bedrooms = '3' AND bathrooms = '3' GROUP BY date_built ORDER BY date_built ASC\").show()\n"
   ]
  },
  {
   "cell_type": "code",
   "execution_count": 0,
   "metadata": {
    "application/vnd.databricks.v1+cell": {
     "cellMetadata": {
      "byteLimit": 2048000,
      "rowLimit": 10000
     },
     "inputWidgets": {},
     "nuid": "5690d7f9-112a-494e-bd17-b8250f9d1c5b",
     "showTitle": false,
     "title": ""
    },
    "colab": {
     "base_uri": "https://localhost:8080/"
    },
    "id": "Y-Eytz64liDU",
    "outputId": "17119810-56ad-40c3-de5e-c3db57e43bcc"
   },
   "outputs": [
    {
     "output_type": "stream",
     "name": "stdout",
     "output_type": "stream",
     "text": [
      "+----------+---------+\n|date_built|avg_price|\n+----------+---------+\n|      2010|301130.93|\n|      2011|290688.58|\n|      2012|319456.36|\n|      2013|310510.69|\n|      2014| 309821.9|\n|      2015| 307147.8|\n|      2016|300851.65|\n|      2017|293281.74|\n+----------+---------+\n\n"
     ]
    }
   ],
   "source": [
    "# 5. What is the average price of a home for each year the home was built,\n",
    "# that have 3 bedrooms, 3 bathrooms, with two floors,\n",
    "# and are greater than or equal to 2,000 square feet, rounded to two decimal places?\n",
    "spark.sql(\"SELECT date_built, ROUND(AVG(price), 2) AS avg_price FROM home_sales WHERE bedrooms = '3' AND bathrooms = '3' AND floors >= '2' AND sqft_living >= '2000' GROUP BY date_built ORDER BY date_built ASC\").show()\n",
    "\n"
   ]
  },
  {
   "cell_type": "code",
   "execution_count": 0,
   "metadata": {
    "application/vnd.databricks.v1+cell": {
     "cellMetadata": {
      "byteLimit": 2048000,
      "rowLimit": 10000
     },
     "inputWidgets": {},
     "nuid": "168aca28-3938-4a3c-bf3f-b0bea33b90e9",
     "showTitle": false,
     "title": ""
    },
    "colab": {
     "base_uri": "https://localhost:8080/"
    },
    "id": "GUrfgOX1pCRd",
    "outputId": "17c25774-855e-4290-a4bd-a04902bdc13a"
   },
   "outputs": [
    {
     "output_type": "stream",
     "name": "stdout",
     "output_type": "stream",
     "text": [
      "+----+-------------------------+\n|view|avg_price_per_view_rating|\n+----+-------------------------+\n| 100|                1026669.5|\n|  99|               1061201.42|\n|  98|               1053739.33|\n|  97|               1129040.15|\n|  96|               1017815.92|\n|  95|                1054325.6|\n|  94|                1033536.2|\n|  93|               1026006.06|\n|  92|                970402.55|\n|  91|               1137372.73|\n|  90|               1062654.16|\n|  89|               1107839.15|\n|  88|               1031719.35|\n|  87|                1072285.2|\n|  86|               1070444.25|\n|  85|               1056336.74|\n|  84|               1117233.13|\n|  83|               1033965.93|\n|  82|                1063498.0|\n|  81|               1053472.79|\n+----+-------------------------+\nonly showing top 20 rows\n\n--- 0.6657025814056396 seconds ---\n"
     ]
    }
   ],
   "source": [
    "# 6. What is the average price of a home per \"view\" rating, rounded to two decimal places,\n",
    "# having an average home price greater than or equal to $350,000? Order by descending view rating. \n",
    "# Although this is a small dataset, determine the run time for this query.\n",
    "\n",
    "start_time = time.time()\n",
    "\n",
    "spark.sql(\"\"\"\n",
    "    SELECT view, ROUND(AVG(price), 2) AS avg_price_per_view_rating\n",
    "    FROM home_sales \n",
    "    GROUP BY view \n",
    "    HAVING ROUND(AVG(price), 2) >= 350000 \n",
    "    ORDER BY view DESC\n",
    "\"\"\").show()\n",
    "\n",
    "print(\"--- %s seconds ---\" % (time.time() - start_time))"
   ]
  },
  {
   "cell_type": "code",
   "execution_count": 0,
   "metadata": {
    "application/vnd.databricks.v1+cell": {
     "cellMetadata": {
      "byteLimit": 2048000,
      "rowLimit": 10000
     },
     "inputWidgets": {},
     "nuid": "5ea9e037-a884-4373-a5c3-ba3bdffe3ad2",
     "showTitle": false,
     "title": ""
    },
    "colab": {
     "base_uri": "https://localhost:8080/"
    },
    "id": "KAhk3ZD2tFy8",
    "outputId": "0a8f132d-40a8-4bd4-b5f2-2847e98427f5"
   },
   "outputs": [],
   "source": [
    "# 7. Cache the the temporary table home_sales.\n",
    "cacheDF=df.cache()"
   ]
  },
  {
   "cell_type": "code",
   "execution_count": 0,
   "metadata": {
    "application/vnd.databricks.v1+cell": {
     "cellMetadata": {
      "byteLimit": 2048000,
      "rowLimit": 10000
     },
     "inputWidgets": {},
     "nuid": "85a9e310-48b4-40e1-a56e-fbf740ea1d9d",
     "showTitle": false,
     "title": ""
    },
    "colab": {
     "base_uri": "https://localhost:8080/"
    },
    "id": "4opVhbvxtL-i",
    "outputId": "38ec8487-795f-4550-b50c-fcc6f2b7c769"
   },
   "outputs": [
    {
     "output_type": "stream",
     "name": "stdout",
     "output_type": "stream",
     "text": [
      "Out[45]: True"
     ]
    }
   ],
   "source": [
    "# 8. Check if the table is cached.\n",
    "spark.catalog.isCached('home_sales')"
   ]
  },
  {
   "cell_type": "code",
   "execution_count": 0,
   "metadata": {
    "application/vnd.databricks.v1+cell": {
     "cellMetadata": {
      "byteLimit": 2048000,
      "rowLimit": 10000
     },
     "inputWidgets": {},
     "nuid": "48f288bd-7093-40a5-995e-25fda5a1b6f9",
     "showTitle": false,
     "title": ""
    },
    "colab": {
     "base_uri": "https://localhost:8080/"
    },
    "id": "5GnL46lwTSEk",
    "outputId": "09a16c73-194d-4371-95d1-ee64fe83b91c"
   },
   "outputs": [
    {
     "output_type": "stream",
     "name": "stdout",
     "output_type": "stream",
     "text": [
      "+----+-------------------------+\n|view|avg_price_per_view_rating|\n+----+-------------------------+\n| 100|                1026669.5|\n|  99|               1061201.42|\n|  98|               1053739.33|\n|  97|               1129040.15|\n|  96|               1017815.92|\n|  95|                1054325.6|\n|  94|                1033536.2|\n|  93|               1026006.06|\n|  92|                970402.55|\n|  91|               1137372.73|\n|  90|               1062654.16|\n|  89|               1107839.15|\n|  88|               1031719.35|\n|  87|                1072285.2|\n|  86|               1070444.25|\n|  85|               1056336.74|\n|  84|               1117233.13|\n|  83|               1033965.93|\n|  82|                1063498.0|\n|  81|               1053472.79|\n+----+-------------------------+\nonly showing top 20 rows\n\n--- 0.5834541320800781 seconds ---\n"
     ]
    }
   ],
   "source": [
    "# 9. Using the cached data, run the last query above, that calculates \n",
    "# the average price of a home per \"view\" rating, rounded to two decimal places,\n",
    "# having an average home price greater than or equal to $350,000. \n",
    "# Determine the runtime and compare it to the uncached runtime.\n",
    "\n",
    "start_time = time.time()\n",
    "\n",
    "spark.sql(\"\"\"\n",
    "    SELECT view, ROUND(AVG(price), 2) AS avg_price_per_view_rating\n",
    "    FROM home_sales \n",
    "    GROUP BY view \n",
    "    HAVING ROUND(AVG(price), 2) >= 350000 \n",
    "    ORDER BY view DESC\n",
    "\"\"\").show()\n",
    "\n",
    "\n",
    "print(\"--- %s seconds ---\" % (time.time() - start_time))\n"
   ]
  },
  {
   "cell_type": "code",
   "execution_count": 0,
   "metadata": {
    "application/vnd.databricks.v1+cell": {
     "cellMetadata": {
      "byteLimit": 2048000,
      "rowLimit": 10000
     },
     "inputWidgets": {},
     "nuid": "f8d319da-5723-48f2-8419-2fde46a70567",
     "showTitle": false,
     "title": ""
    },
    "id": "Qm12WN9isHBR"
   },
   "outputs": [],
   "source": [
    "# 10. Partition by the \"date_built\" field on the formatted parquet home sales data \n",
    "df.write.parquet(\"home_sales_partitioned\", mode=\"overwrite\", partitionBy=\"date_built\")"
   ]
  },
  {
   "cell_type": "code",
   "execution_count": 0,
   "metadata": {
    "application/vnd.databricks.v1+cell": {
     "cellMetadata": {
      "byteLimit": 2048000,
      "rowLimit": 10000
     },
     "inputWidgets": {},
     "nuid": "3e4c9fea-b0f7-4a8a-9fd3-9090bd4c9e54",
     "showTitle": false,
     "title": ""
    }
   },
   "outputs": [
    {
     "output_type": "stream",
     "name": "stdout",
     "output_type": "stream",
     "text": [
      "Out[74]: [FileInfo(path='dbfs:/home_sales_partitioned/_SUCCESS', name='_SUCCESS', size=0, modificationTime=1729020179000),\n FileInfo(path='dbfs:/home_sales_partitioned/_committed_2807342909154149255', name='_committed_2807342909154149255', size=221, modificationTime=1729019243000),\n FileInfo(path='dbfs:/home_sales_partitioned/_committed_4104781885153402075', name='_committed_4104781885153402075', size=123, modificationTime=1729020145000),\n FileInfo(path='dbfs:/home_sales_partitioned/_committed_4995283177445516455', name='_committed_4995283177445516455', size=123, modificationTime=1729020179000),\n FileInfo(path='dbfs:/home_sales_partitioned/_committed_587310410853934407', name='_committed_587310410853934407', size=123, modificationTime=1729019278000),\n FileInfo(path='dbfs:/home_sales_partitioned/_committed_6588580373756024608', name='_committed_6588580373756024608', size=123, modificationTime=1729019225000),\n FileInfo(path='dbfs:/home_sales_partitioned/_committed_8323097846730606236', name='_committed_8323097846730606236', size=35, modificationTime=1729018865000),\n FileInfo(path='dbfs:/home_sales_partitioned/_started_2807342909154149255', name='_started_2807342909154149255', size=0, modificationTime=1729019243000),\n FileInfo(path='dbfs:/home_sales_partitioned/_started_4104781885153402075', name='_started_4104781885153402075', size=0, modificationTime=1729020144000),\n FileInfo(path='dbfs:/home_sales_partitioned/_started_6588580373756024608', name='_started_6588580373756024608', size=0, modificationTime=1729019223000),\n FileInfo(path='dbfs:/home_sales_partitioned/date_built=2010/', name='date_built=2010/', size=0, modificationTime=0),\n FileInfo(path='dbfs:/home_sales_partitioned/date_built=2011/', name='date_built=2011/', size=0, modificationTime=0),\n FileInfo(path='dbfs:/home_sales_partitioned/date_built=2012/', name='date_built=2012/', size=0, modificationTime=0),\n FileInfo(path='dbfs:/home_sales_partitioned/date_built=2013/', name='date_built=2013/', size=0, modificationTime=0),\n FileInfo(path='dbfs:/home_sales_partitioned/date_built=2014/', name='date_built=2014/', size=0, modificationTime=0),\n FileInfo(path='dbfs:/home_sales_partitioned/date_built=2015/', name='date_built=2015/', size=0, modificationTime=0),\n FileInfo(path='dbfs:/home_sales_partitioned/date_built=2016/', name='date_built=2016/', size=0, modificationTime=0),\n FileInfo(path='dbfs:/home_sales_partitioned/date_built=2017/', name='date_built=2017/', size=0, modificationTime=0)]"
     ]
    }
   ],
   "source": [
    "dbutils.fs.ls(\"dbfs:/home_sales_partitioned/\")"
   ]
  },
  {
   "cell_type": "code",
   "execution_count": 0,
   "metadata": {
    "application/vnd.databricks.v1+cell": {
     "cellMetadata": {
      "byteLimit": 2048000,
      "rowLimit": 10000
     },
     "inputWidgets": {},
     "nuid": "cb0a99ce-6d02-4b7d-ada1-314eea135eef",
     "showTitle": false,
     "title": ""
    },
    "id": "AZ7BgY61sRqY"
   },
   "outputs": [],
   "source": [
    "# 11. Read the formatted parquet data.\n",
    "p_df=spark.read.parquet(\"dbfs:/home_sales_partitioned/\")"
   ]
  },
  {
   "cell_type": "code",
   "execution_count": 0,
   "metadata": {
    "application/vnd.databricks.v1+cell": {
     "cellMetadata": {
      "byteLimit": 2048000,
      "rowLimit": 10000
     },
     "inputWidgets": {},
     "nuid": "cd8297a6-1efa-4282-acdb-7ce6ce268961",
     "showTitle": false,
     "title": ""
    },
    "id": "J6MJkHfvVcvh"
   },
   "outputs": [],
   "source": [
    "# 12. Create a temporary table for the parquet data.\n",
    "p_df.createOrReplaceTempView('home_sales_partitioned')"
   ]
  },
  {
   "cell_type": "code",
   "execution_count": 0,
   "metadata": {
    "application/vnd.databricks.v1+cell": {
     "cellMetadata": {
      "byteLimit": 2048000,
      "rowLimit": 10000
     },
     "inputWidgets": {},
     "nuid": "b463331c-f492-44dd-9289-2cb63b31fded",
     "showTitle": false,
     "title": ""
    },
    "colab": {
     "base_uri": "https://localhost:8080/"
    },
    "id": "G_Vhb52rU1Sn",
    "outputId": "a0b8d0c4-55ed-4c6c-bfd8-4c8c5334838e"
   },
   "outputs": [
    {
     "output_type": "stream",
     "name": "stdout",
     "output_type": "stream",
     "text": [
      "+----+-------------------------+\n|view|avg_price_per_view_rating|\n+----+-------------------------+\n| 100|                1026669.5|\n|  99|               1061201.42|\n|  98|               1053739.33|\n|  97|               1129040.15|\n|  96|               1017815.92|\n|  95|                1054325.6|\n|  94|                1033536.2|\n|  93|               1026006.06|\n|  92|                970402.55|\n|  91|               1137372.73|\n|  90|               1062654.16|\n|  89|               1107839.15|\n|  88|               1031719.35|\n|  87|                1072285.2|\n|  86|               1070444.25|\n|  85|               1056336.74|\n|  84|               1117233.13|\n|  83|               1033965.93|\n|  82|                1063498.0|\n|  81|               1053472.79|\n+----+-------------------------+\nonly showing top 20 rows\n\n--- 2.615440607070923 seconds ---\n"
     ]
    }
   ],
   "source": [
    "# 13. Using the parquet DataFrame, run the last query above, that calculates \n",
    "# the average price of a home per \"view\" rating, rounded to two decimal places,\n",
    "# having an average home price greater than or equal to $350,000. \n",
    "# Determine the runtime and compare it to the cached runtime.\n",
    "\n",
    "start_time = time.time()\n",
    "\n",
    "spark.sql(\"\"\"\n",
    "    SELECT view, ROUND(AVG(price), 2) AS avg_price_per_view_rating\n",
    "    FROM home_sales_partitioned\n",
    "    GROUP BY view \n",
    "    HAVING ROUND(AVG(price), 2) >= 350000 \n",
    "    ORDER BY view DESC\n",
    "\"\"\").show()\n",
    "\n",
    "print(\"--- %s seconds ---\" % (time.time() - start_time))"
   ]
  },
  {
   "cell_type": "code",
   "execution_count": 0,
   "metadata": {
    "application/vnd.databricks.v1+cell": {
     "cellMetadata": {
      "byteLimit": 2048000,
      "rowLimit": 10000
     },
     "inputWidgets": {},
     "nuid": "2ee745e9-adb7-4861-a74d-331d6bb234da",
     "showTitle": false,
     "title": ""
    },
    "colab": {
     "base_uri": "https://localhost:8080/"
    },
    "id": "hjjYzQGjtbq8",
    "outputId": "830549fd-bb41-451b-9183-5ebf6e3e470b"
   },
   "outputs": [],
   "source": [
    "# 14. Uncache the home_sales temporary table.\n",
    "spark.catalog.uncacheTable('home_sales')"
   ]
  },
  {
   "cell_type": "code",
   "execution_count": 0,
   "metadata": {
    "application/vnd.databricks.v1+cell": {
     "cellMetadata": {
      "byteLimit": 2048000,
      "rowLimit": 10000
     },
     "inputWidgets": {},
     "nuid": "e8691a03-99f1-48dd-8ee3-37133612c0d2",
     "showTitle": false,
     "title": ""
    },
    "colab": {
     "base_uri": "https://localhost:8080/"
    },
    "id": "Sy9NBvO7tlmm",
    "outputId": "be73e0e3-5e85-4794-aad9-025fb6fa84a7"
   },
   "outputs": [
    {
     "output_type": "stream",
     "name": "stdout",
     "output_type": "stream",
     "text": [
      "Out[82]: False"
     ]
    }
   ],
   "source": [
    "# 15. Check if the home_sales is no longer cached\n",
    "spark.catalog.isCached('home_sales')\n"
   ]
  },
  {
   "cell_type": "code",
   "execution_count": 0,
   "metadata": {
    "application/vnd.databricks.v1+cell": {
     "cellMetadata": {},
     "inputWidgets": {},
     "nuid": "1f08462e-4867-427e-be08-0eb044bad6cf",
     "showTitle": false,
     "title": ""
    }
   },
   "outputs": [],
   "source": []
  }
 ],
 "metadata": {
  "application/vnd.databricks.v1+notebook": {
   "dashboards": [],
   "environmentMetadata": null,
   "language": "python",
   "notebookMetadata": {
    "pythonIndentUnit": 4
   },
   "notebookName": "Home_Sales_code",
   "widgets": {}
  },
  "colab": {
   "collapsed_sections": [],
   "name": "Copy of Home_Sales_solution.ipynb",
   "provenance": []
  },
  "kernelspec": {
   "display_name": "Python 3 (ipykernel)",
   "language": "python",
   "name": "python3"
  },
  "language_info": {
   "codemirror_mode": {
    "name": "ipython",
    "version": 3
   },
   "file_extension": ".py",
   "mimetype": "text/x-python",
   "name": "python",
   "nbconvert_exporter": "python",
   "pygments_lexer": "ipython3",
   "version": "3.10.4"
  },
  "nteract": {
   "version": "0.28.0"
  }
 },
 "nbformat": 4,
 "nbformat_minor": 0
}
